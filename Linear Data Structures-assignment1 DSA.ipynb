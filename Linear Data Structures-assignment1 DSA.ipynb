{
 "cells": [
  {
   "cell_type": "code",
   "execution_count": 1,
   "id": "180b8b33",
   "metadata": {},
   "outputs": [
    {
     "name": "stdout",
     "output_type": "stream",
     "text": [
      "[(6, 6), (5, 7), (4, 8), (3, 9), (2, 10), (1, 11), (0, 12)]\n"
     ]
    }
   ],
   "source": [
    "#question number [1]Write a program to find all pairs of an integer array whose sum is equal to a given number?\n",
    "def integerPair(list,m): \n",
    "    res = []\n",
    "    while list:\n",
    "        num = list.pop()\n",
    "        diff = m - num\n",
    "        if diff in list:\n",
    "            res.append((diff, num))\n",
    "          \n",
    "    res.reverse()\n",
    "    return res\n",
    "      \n",
    "list = [0,1,2,3,4,5,6,6,7,8,9,10,11,12]\n",
    "m = 12\n",
    "print(integerPair(list,m))"
   ]
  },
  {
   "cell_type": "code",
   "execution_count": 2,
   "id": "6f9fb8c8",
   "metadata": {},
   "outputs": [
    {
     "name": "stdout",
     "output_type": "stream",
     "text": [
      "[0, 10, 20, 30, 40, 50, 60, 70, 80, 90, 100]\n",
      "start final to initial\n",
      "[100, 90, 80, 70, 60, 50, 40, 30, 20, 10, 0]\n"
     ]
    }
   ],
   "source": [
    "#question number [2]Write a program to reverse an array in place? In place means you cannot create a new array. You have to update the original array.?\n",
    "def reversearray(x, initial, final):\n",
    "    while initial < final:\n",
    "        x[initial], x[final] = x[final], x[initial]\n",
    "        initial += 1\n",
    "        final -= 1\n",
    "\n",
    "x = [0,10,20,30,40,50,60,70,80,90,100]\n",
    "print(x)\n",
    "reversearray(x, 0, 10)\n",
    "print(\"start final to initial\")\n",
    "print(x)\n"
   ]
  },
  {
   "cell_type": "code",
   "execution_count": 3,
   "id": "2a1b2400",
   "metadata": {},
   "outputs": [
    {
     "name": "stdout",
     "output_type": "stream",
     "text": [
      "two strings are a rotation \n"
     ]
    }
   ],
   "source": [
    "#question number[3]Write a program to check if two strings are a rotation of each other?\n",
    "def backrotation(nameone, nametwo):\n",
    "    counting1 = len(nameone)\n",
    "    counting2 = len(nametwo)\n",
    "    loop = ''\n",
    " \n",
    "    if counting1 != counting2:\n",
    "        return 0\n",
    " \n",
    "    loop = nameone + nameone\n",
    " \n",
    "    if (loop.count(nametwo)> 0):\n",
    "        return 1\n",
    "    else:\n",
    "        return 0\n",
    "\n",
    "nameone = \"pradeepkumar\"\n",
    "nametwo = \"arpradeepkum\"\n",
    "  \n",
    "if backrotation(nameone, nametwo):\n",
    "    print (\"two strings are a rotation \")\n",
    "else:\n",
    "    print (\"two strings are not rotation \")\n",
    "   "
   ]
  },
  {
   "cell_type": "code",
   "execution_count": 4,
   "id": "0bd53ceb",
   "metadata": {},
   "outputs": [
    {
     "name": "stdout",
     "output_type": "stream",
     "text": [
      "d\n",
      "d\n",
      "e\n",
      "p\n",
      "None\n"
     ]
    }
   ],
   "source": [
    "#question number [4]Write a program to print the first non-repeated character from a string?\n",
    "def nonrepeated(valueone):\n",
    "    order = []\n",
    "    cou = {}\n",
    "    for i in valueone:\n",
    "        if i in cou:\n",
    "            cou[i] += 1\n",
    "        else:\n",
    "            cou[i] = 1\n",
    "            order.append(i)\n",
    "    for i in order:\n",
    "        if cou[i] == 1:\n",
    "            return i\n",
    "    return None\n",
    "\n",
    "print(nonrepeated('pradeepkumar'))\n",
    "print(nonrepeated('data science'))\n",
    "print(nonrepeated('edyoda'))\n",
    "print(nonrepeated('python certificate'))\n",
    "print(nonrepeated('mmssms'))"
   ]
  },
  {
   "cell_type": "code",
   "execution_count": 5,
   "id": "756a8e90",
   "metadata": {},
   "outputs": [
    {
     "name": "stdout",
     "output_type": "stream",
     "text": [
      "start from 1 initial position x to final position z\n",
      "start from 2 initial position x to final position y\n",
      "start from 1 initial position z to final position y\n",
      "start from 3 initial position x to final position z\n",
      "start from 1 initial position y to final position x\n",
      "start from 2 initial position y to final position z\n",
      "start from 1 initial position x to final position z\n",
      "start from 4 initial position x to final position y\n",
      "start from 1 initial position z to final position y\n",
      "start from 2 initial position z to final position x\n",
      "start from 1 initial position y to final position x\n",
      "start from 3 initial position z to final position y\n",
      "start from 1 initial position x to final position z\n",
      "start from 2 initial position x to final position y\n",
      "start from 1 initial position z to final position y\n"
     ]
    }
   ],
   "source": [
    "#question number [5]Read about the Tower of Hanoi algorithm. Write a program to implement it.?\n",
    "def Hanoialgorithm(n , initial_position, to_final_position, mid_position):\n",
    "    if n == 0:\n",
    "        return\n",
    "    Hanoialgorithm(n-1, initial_position, mid_position, to_final_position)\n",
    "    print(\"start from\",n,\"initial position\",initial_position,\"to final position\",to_final_position)\n",
    "    Hanoialgorithm(n-1, mid_position, to_final_position, initial_position,)\n",
    "         \n",
    "n = 4\n",
    "Hanoialgorithm(n, 'x', 'y', 'z')"
   ]
  },
  {
   "cell_type": "code",
   "execution_count": 6,
   "id": "e50e0448",
   "metadata": {},
   "outputs": [
    {
     "name": "stdout",
     "output_type": "stream",
     "text": [
      "Prefix :  +XY-ZA\n"
     ]
    }
   ],
   "source": [
    "#question number [6]Write a program to convert postfix to prefix expression.?\n",
    "def pospre(l):\n",
    " \n",
    "    if l == \"+\":\n",
    "        return True\n",
    " \n",
    "    if l == \"-\":\n",
    "        return True\n",
    " \n",
    "    if l == \"/\":\n",
    "        return True\n",
    " \n",
    "    if l == \"*\":\n",
    "        return True\n",
    " \n",
    "    return False\n",
    " \n",
    "def postoPre(post_experssion):\n",
    "    s = []\n",
    "    length = len(post_experssion)\n",
    "    for i in range(length):\n",
    "        if (pospre(post_experssion[i])):\n",
    "            part1 = s[-1]\n",
    "            s.pop()\n",
    "            part2 = s[-1]\n",
    "            s.pop()\n",
    "            temp = post_experssion[i] + part2 + part1\n",
    "            s.append(temp)\n",
    "        else:\n",
    "            s.append(post_experssion[i])\n",
    " \n",
    "    \n",
    "    ans = \"\"\n",
    "    for i in s:\n",
    "        ans += i\n",
    "    return ans\n",
    " \n",
    "if __name__ == \"__main__\":\n",
    " \n",
    "    post_exp = \"XY+ZA-\"\n",
    "    print (\"Prefix : \", postoPre(post_exp))"
   ]
  },
  {
   "cell_type": "code",
   "execution_count": 7,
   "id": "35d7b80e",
   "metadata": {},
   "outputs": [
    {
     "name": "stdout",
     "output_type": "stream",
     "text": [
      "((x-(y/z))*((x/m)-n))\n"
     ]
    }
   ],
   "source": [
    "#question number [7]Write a program to convert prefix expression to infix expression.?\n",
    "def pretoin(prefix):\n",
    "    stack = []\n",
    "    i = len(prefix) - 1\n",
    "    while i >= 0:\n",
    "        if not infix(prefix[i]):\n",
    "            stack.append(prefix[i])\n",
    "            i -= 1\n",
    "        else:\n",
    "            str = \"(\" + stack.pop() + prefix[i] + stack.pop() + \")\"\n",
    "            stack.append(str)\n",
    "            i -= 1\n",
    "     \n",
    "    return stack.pop()\n",
    " \n",
    "def infix(k):\n",
    "    if k == \"*\" or k == \"+\" or k == \"-\" or k== \"/\" or k == \"^\" or k == \"(\" or k == \")\":\n",
    "        return True\n",
    "    else:\n",
    "        return False\n",
    "if __name__==\"__main__\":\n",
    "    str = \"*-x/yz-/xmn\"\n",
    "    print(pretoin(str))"
   ]
  },
  {
   "cell_type": "code",
   "execution_count": 8,
   "id": "7a31de2f",
   "metadata": {},
   "outputs": [
    {
     "name": "stdout",
     "output_type": "stream",
     "text": [
      "Balanced\n"
     ]
    }
   ],
   "source": [
    "#quetion number [8]Write a program to check if all the brackets are closed in a given code snippet.?\n",
    "def areBracketsBalanced(expr):\n",
    "    stack = []\n",
    "    for char in expr:\n",
    "        if char in [\"(\", \"{\", \"[\"]:\n",
    "            stack.append(char)\n",
    "        else:\n",
    "            if not stack:\n",
    "                return False\n",
    "            current_char = stack.pop()\n",
    "            if current_char == '(':\n",
    "                if char != \")\":\n",
    "                    return False\n",
    "            if current_char == '{':\n",
    "                if char != \"}\":\n",
    "                    return False\n",
    "            if current_char == '[':\n",
    "                if char != \"]\":\n",
    "                    return False\n",
    " \n",
    "    if stack:\n",
    "        return False\n",
    "    return True\n",
    "if __name__ == \"__main__\":\n",
    "    expr = \"{()}[]\"\n",
    "    if areBracketsBalanced(expr):\n",
    "        print(\"Balanced\")\n",
    "    else:\n",
    "        print(\"Not Balanced\")"
   ]
  },
  {
   "cell_type": "code",
   "execution_count": 9,
   "id": "01398bea",
   "metadata": {},
   "outputs": [
    {
     "name": "stdout",
     "output_type": "stream",
     "text": [
      "real values\n",
      "555\n",
      "444\n",
      "333\n",
      "222\n",
      "111\n",
      "\n",
      "changing values\n",
      "111\n",
      "222\n",
      "333\n",
      "444\n",
      "555\n"
     ]
    }
   ],
   "source": [
    "#question number [9]Write a program to reverse a stack?\n",
    "class Stack:\n",
    "    def __init__(self):\n",
    "        self.Elements = []\n",
    "    def push(self, value):\n",
    "        self.Elements.append(value)\n",
    "    def pop(self):\n",
    "        return self.Elements.pop()\n",
    "    def empty(self):\n",
    "        return self.Elements == []\n",
    "    def show(self):\n",
    "        for value in reversed(self.Elements):\n",
    "            print(value)\n",
    "def Bottominsert(s, value):\n",
    "    if s.empty():\n",
    "        s.push(value)\n",
    "    else:\n",
    "        popped = s.pop()\n",
    "        Bottominsert(s, value)\n",
    "        s.push(popped)\n",
    "def Reverse(s):\n",
    "    if s.empty():\n",
    "        pass\n",
    "    else:\n",
    "        popped = s.pop()\n",
    "        Reverse(s)\n",
    "        Bottominsert(s, popped)\n",
    "sort = Stack()\n",
    " \n",
    "sort.push(111)\n",
    "sort.push(222)\n",
    "sort.push(333)\n",
    "sort.push(444)\n",
    "sort.push(555)\n",
    " \n",
    "print(\"real values\")\n",
    "sort.show()\n",
    " \n",
    "print(\"\\nchanging values\")\n",
    "Reverse(sort)\n",
    "sort.show()"
   ]
  },
  {
   "cell_type": "code",
   "execution_count": 10,
   "id": "6dd136a7",
   "metadata": {},
   "outputs": [
    {
     "name": "stdout",
     "output_type": "stream",
     "text": [
      "Smallest element is 1\n"
     ]
    }
   ],
   "source": [
    "#question number [10]Write a program to find the smallest number using a stack.?\n",
    "list = [9,20,300,4000,50000,6000,700,80,1]\n",
    "list.sort()\n",
    "print(\"Smallest element is\", *list[:1])"
   ]
  }
 ],
 "metadata": {
  "kernelspec": {
   "display_name": "Python 3 (ipykernel)",
   "language": "python",
   "name": "python3"
  },
  "language_info": {
   "codemirror_mode": {
    "name": "ipython",
    "version": 3
   },
   "file_extension": ".py",
   "mimetype": "text/x-python",
   "name": "python",
   "nbconvert_exporter": "python",
   "pygments_lexer": "ipython3",
   "version": "3.10.2"
  }
 },
 "nbformat": 4,
 "nbformat_minor": 5
}
